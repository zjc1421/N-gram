{
  "nbformat": 4,
  "nbformat_minor": 0,
  "metadata": {
    "colab": {
      "provenance": []
    },
    "kernelspec": {
      "name": "python3",
      "display_name": "Python 3"
    },
    "language_info": {
      "name": "python"
    }
  },
  "cells": [
    {
      "cell_type": "markdown",
      "source": [
        "Author: Jim Zhou"
      ],
      "metadata": {
        "id": "XTc1l9-NokTG"
      }
    },
    {
      "cell_type": "markdown",
      "source": [
        "#1.1 Import Dataset"
      ],
      "metadata": {
        "id": "wID1Dxyl5KfS"
      }
    },
    {
      "cell_type": "code",
      "execution_count": null,
      "metadata": {
        "id": "j9dstDk_oN1g",
        "colab": {
          "base_uri": "https://localhost:8080/"
        },
        "outputId": "d371510b-d943-4dce-fffa-6820a0e2ad0d"
      },
      "outputs": [
        {
          "output_type": "stream",
          "name": "stdout",
          "text": [
            "Drive already mounted at /content/drive; to attempt to forcibly remount, call drive.mount(\"/content/drive\", force_remount=True).\n"
          ]
        }
      ],
      "source": [
        "# 1.1 Dataset\n",
        "from google.colab import drive\n",
        "drive.mount('/content/drive')\n",
        "\n",
        "import math\n",
        "import random\n",
        "import matplotlib.pyplot as plt\n",
        "from collections import defaultdict\n",
        "\n",
        "\n",
        "dev = open(\"1b_benchmark.dev.tokens\", \"r\")\n",
        "test = open(\"1b_benchmark.test.tokens\", \"r\")\n",
        "train = open(\"1b_benchmark.train.tokens\", \"r\")"
      ]
    },
    {
      "cell_type": "code",
      "source": [
        "# %cd drive/MyDrive/447_HW1/"
      ],
      "metadata": {
        "id": "Wja4oIGB04Ul"
      },
      "execution_count": null,
      "outputs": []
    },
    {
      "cell_type": "code",
      "source": [
        "# replace words to unk in input word_count\n",
        "# return a set contains all the words needed to convert to unk\n",
        "def filter_unk(word_count, freq):\n",
        "  word_to_unk = set()\n",
        "  unk_count = 0\n",
        "  for word in word_count.keys():\n",
        "    if word_count[word] < freq:\n",
        "      word_to_unk.add(word)\n",
        "      unk_count += word_count[word]\n",
        "  word_count[\"unk\"] = unk_count\n",
        "  for word in word_to_unk:\n",
        "    word_count.pop(word)\n",
        "  return word_to_unk"
      ],
      "metadata": {
        "id": "u3wRZUrW5__j"
      },
      "execution_count": null,
      "outputs": []
    },
    {
      "cell_type": "code",
      "source": [
        "# count for single word\n",
        "def count_for_unitoken(lines):\n",
        "  word_count_dict = {}\n",
        "  for line in lines:\n",
        "    cleaned_line = line.strip()\n",
        "    words = cleaned_line.split()\n",
        "\n",
        "    for word in words:\n",
        "      word_count_dict[word] = word_count_dict.get(word, 0) + 1\n",
        "    word_count_dict[\"<STOP>\"] = word_count_dict.get(\"<STOP>\", 0) + 1\n",
        "  return word_count_dict"
      ],
      "metadata": {
        "id": "Ya--1r5v9VWQ"
      },
      "execution_count": null,
      "outputs": []
    },
    {
      "cell_type": "code",
      "source": [
        "# count for bigram token\n",
        "def count_for_bitoken(lines, list_of_unk):\n",
        "  bitoken_count_dict = {}\n",
        "  for line in lines:\n",
        "    pre_word = \"<START>\"\n",
        "    cleaned_line = line.strip()\n",
        "    words = cleaned_line.split()\n",
        "    words.append(\"<STOP>\")\n",
        "\n",
        "    for word in words:\n",
        "      if word in list_of_unk:\n",
        "        word = \"unk\"\n",
        "      bitoken_count_dict[(pre_word, word)] = bitoken_count_dict.get((pre_word, word), 0) + 1\n",
        "      pre_word = word\n",
        "  return bitoken_count_dict"
      ],
      "metadata": {
        "id": "IadViNGdQxtq"
      },
      "execution_count": null,
      "outputs": []
    },
    {
      "cell_type": "code",
      "source": [
        "# count for trigram token\n",
        "def count_for_tritoken(lines, list_of_unk):\n",
        "  tritoken_count_dict = {}\n",
        "  for line in lines:\n",
        "    pre_token = (\"<START>\", \"<START>\")\n",
        "    cleaned_line = line.strip()\n",
        "    words = cleaned_line.split()\n",
        "    words.append(\"<STOP>\")\n",
        "\n",
        "    for word in words:\n",
        "      if word in list_of_unk:\n",
        "        word = \"unk\"\n",
        "      tritoken_count_dict[(pre_token, word)] = tritoken_count_dict.get((pre_token, word), 0) + 1\n",
        "      pre_token = (pre_token[1], word)\n",
        "  return tritoken_count_dict"
      ],
      "metadata": {
        "id": "M4q5KvzuoPLv"
      },
      "execution_count": null,
      "outputs": []
    },
    {
      "cell_type": "code",
      "source": [
        "def unigram(lines, K, freq):\n",
        "  word_count = count_for_unitoken(lines)\n",
        "  word_to_unk = filter_unk(word_count, freq)\n",
        "  total_word = 0\n",
        "\n",
        "  for word in word_count:\n",
        "    total_word += word_count[word]\n",
        "\n",
        "  token_prob = {}\n",
        "  for word in word_count.keys():\n",
        "    token_prob[word] = (word_count[word] / total_word, (word_count[word] + K) / (total_word + (K * len(word_count))))\n",
        "  return token_prob"
      ],
      "metadata": {
        "id": "n41xWvFp5N-x"
      },
      "execution_count": null,
      "outputs": []
    },
    {
      "cell_type": "code",
      "source": [
        "def get_unigram_prob(model, word, smooth):\n",
        "  return model[word][1] if smooth else model[word][0]"
      ],
      "metadata": {
        "id": "WxAVDidM2MqZ"
      },
      "execution_count": null,
      "outputs": []
    },
    {
      "cell_type": "code",
      "source": [
        "def bigram(lines, K, freq):\n",
        "  word_count = count_for_unitoken(lines)\n",
        "  word_to_unk = filter_unk(word_count, freq)\n",
        "\n",
        "  token_prob = defaultdict(dict)\n",
        "  bigram_count = count_for_bitoken(lines, word_to_unk)\n",
        "  for line in lines:\n",
        "    pre_word = \"<START>\"\n",
        "    cleaned_line = line.strip()\n",
        "    words = cleaned_line.split()\n",
        "    words.append(\"<STOP>\")\n",
        "\n",
        "    for word in words:\n",
        "      if word in word_to_unk:\n",
        "        word = \"unk\"\n",
        "      if pre_word == \"<START>\":\n",
        "        token_prob[pre_word][word] = (bigram_count[(pre_word, word)] / len(lines), (bigram_count[(pre_word, word)] + K) / (len(lines) + (K * len(word_count))))\n",
        "      else:\n",
        "        token_prob[pre_word][word] = (bigram_count[(pre_word, word)] / word_count[pre_word], (bigram_count[(pre_word, word)] + K) / (word_count[pre_word] + (K * len(word_count))))\n",
        "      pre_word = word\n",
        "  return token_prob"
      ],
      "metadata": {
        "id": "rxbToScOzhTR"
      },
      "execution_count": null,
      "outputs": []
    },
    {
      "cell_type": "code",
      "source": [
        "def get_bigram_prob(K, size, model, pre_word, pre_word_freq, word, smooth):\n",
        "  return model[pre_word].get(word, (0, K / (pre_word_freq + K * size)))[1] if smooth else model[pre_word].get(word, (0, 0))[0]"
      ],
      "metadata": {
        "id": "dQjX9S2vNtE9"
      },
      "execution_count": null,
      "outputs": []
    },
    {
      "cell_type": "code",
      "source": [
        "def trigram(lines, big_mode, K, freq):\n",
        "  word_count = count_for_unitoken(lines)\n",
        "  word_to_unk = filter_unk(word_count, freq)\n",
        "  bigram_count = count_for_bitoken(lines, word_to_unk)\n",
        "  trigram_count = count_for_tritoken(lines, word_to_unk)\n",
        "\n",
        "  token_prob = defaultdict(dict)\n",
        "  for line in lines:\n",
        "    pre_token = (\"<START>\", \"<START>\")\n",
        "    cleaned_line = line.strip()\n",
        "    words = cleaned_line.split()\n",
        "    words.append(\"<STOP>\")\n",
        "\n",
        "    for word in words:\n",
        "      if word in word_to_unk:\n",
        "        word = \"unk\"\n",
        "      if pre_token == (\"<START>\", \"<START>\"):\n",
        "        token_prob[pre_token][word] = (trigram_count[(pre_token, word)] / len(lines), (trigram_count[(pre_token, word)] + K) / (len(lines) + (K * len(word_count))))\n",
        "      else:\n",
        "        token_prob[pre_token][word] = (trigram_count[(pre_token, word)] / bigram_count[pre_token], (trigram_count[(pre_token, word)] + K) / (bigram_count[pre_token] + (K * len(word_count))))\n",
        "      pre_token = (pre_token[1], word)\n",
        "  return token_prob"
      ],
      "metadata": {
        "id": "XnHJqQ4dqYOl"
      },
      "execution_count": null,
      "outputs": []
    },
    {
      "cell_type": "code",
      "source": [
        "def get_trigram_prob(K, size, model, token, token_freq, smooth, word):\n",
        "  return model[token].get(word, (0, K / (token_freq + K * size)))[1] if smooth else model[token].get(word, (0, 0))[0]"
      ],
      "metadata": {
        "id": "QcZLKTVtRev2"
      },
      "execution_count": null,
      "outputs": []
    },
    {
      "cell_type": "code",
      "source": [
        "def process_unk(word_count, vocab):\n",
        "  word_to_unk = set()\n",
        "  unk_count = 0\n",
        "  for word in word_count.keys():\n",
        "    if word not in vocab:\n",
        "      word_to_unk.add(word)\n",
        "      unk_count += word_count[word]\n",
        "  word_count[\"unk\"] = unk_count\n",
        "  for word in word_to_unk:\n",
        "    word_count.pop(word)\n",
        "  return word_to_unk"
      ],
      "metadata": {
        "id": "wxn3IL3646-G"
      },
      "execution_count": null,
      "outputs": []
    },
    {
      "cell_type": "code",
      "source": [
        "def get_interpolated_prob(K, size, pool, uni_model, bi_model, tri_model, unigram_freq, bigram_freq, spec_freq, pre_token, word, smooth):\n",
        "  uni_prob = uni_model[word][1] if smooth else uni_model[word][0]\n",
        "\n",
        "  if pre_token[1] == \"<START>\":\n",
        "    pre_word_freq = spec_freq\n",
        "  else:\n",
        "    pre_word_freq = unigram_freq[pre_token[1]]\n",
        "  bi_prob = get_bigram_prob(K, size, bi_model, pre_token[1], pre_word_freq, word, False)\n",
        "\n",
        "  tri_prob = -1\n",
        "  if pre_token not in tri_model:\n",
        "    tri_prob = 0\n",
        "  else:\n",
        "    pre_token_freq = -1\n",
        "    if pre_token == (\"<START>\", \"<START>\"):\n",
        "      pre_token_freq = spec_freq\n",
        "    else:\n",
        "      pre_token_freq = bigram_freq.get(pre_token, 0)\n",
        "    tri_prob = get_trigram_prob(K, size, tri_model, pre_token, pre_token_freq, smooth, word)\n",
        "\n",
        "  interp_prob = (pool[0] * uni_prob + pool[1] * bi_prob + pool[2] * tri_prob)\n",
        "  return interp_prob"
      ],
      "metadata": {
        "id": "FHHlygIDvKUu"
      },
      "execution_count": null,
      "outputs": []
    },
    {
      "cell_type": "code",
      "source": [
        "def perplexity_interpolated(K, train_corpus, vocab, size, pool, uni_model, bi_model, tri_model, unigram_freq, bigram_freq, spec_freq, smooth):\n",
        "  perplexity = 0\n",
        "  word_count = count_for_unitoken(train_corpus)\n",
        "  process_unk(word_count, vocab)\n",
        "  for line in train_corpus:\n",
        "    log_sum = 0\n",
        "    cleaned_line = line.strip()\n",
        "    words = cleaned_line.split()\n",
        "    words.append(\"<STOP>\")\n",
        "\n",
        "    pre_token = (\"<START>\", \"<START>\")\n",
        "    for word in words:\n",
        "      if word not in vocab:\n",
        "        word = \"unk\"\n",
        "      log_sum += math.log(get_interpolated_prob(K, size, pool, uni_model, bi_model, tri_model, unigram_freq, bigram_freq, spec_freq, pre_token, word, smooth))\n",
        "      pre_token = (pre_token[1], word)\n",
        "    perplexity += math.exp(-log_sum / len(words))\n",
        "  perplexity /= len(train_corpus)\n",
        "  return perplexity"
      ],
      "metadata": {
        "id": "V58yg_bevIY4"
      },
      "execution_count": null,
      "outputs": []
    },
    {
      "cell_type": "code",
      "source": [
        "# K -> smoothing variable\n",
        "# N -> perform perplexity on which model (e.g. unigram for 1, bigram for 2 ...)\n",
        "# input_model -> model to evaluate\n",
        "# train_corpus -> evaluation dataset\n",
        "# vocab -> vocab of input model\n",
        "# unigram_freq -> a dict store the unigram token frequency\n",
        "# bigram_freq -> a dict store the bigram token frequency\n",
        "# sepec_freq -> a dict store the special token frequency\n",
        "#    ---> \"<START>\" for unigram_freq and (\"<START>\", \"<START>\") for bigram_freq\n",
        "def perplexity_laplace(K, N, input_model, train_corpus, vocab, unigram_freq, bigram_freq, spec_freq):\n",
        "  perplexity = 0\n",
        "  word_count = count_for_unitoken(train_corpus)\n",
        "  process_unk(word_count, vocab)\n",
        "\n",
        "  if N == 1:\n",
        "    for line in train_corpus:\n",
        "      log_sum = 0\n",
        "      cleaned_line = line.strip()\n",
        "      words = cleaned_line.split()\n",
        "      words.append(\"<STOP>\")\n",
        "\n",
        "      for word in words:\n",
        "        if word not in vocab:\n",
        "          word = \"unk\"\n",
        "        if word in input_model:\n",
        "          log_sum += math.log(input_model[word][1])\n",
        "      perplexity += math.exp(-log_sum / len(words))\n",
        "    perplexity /= len(train_corpus)\n",
        "    return perplexity\n",
        "\n",
        "  if N == 2:\n",
        "    for line in train_corpus:\n",
        "      log_sum = 0\n",
        "      cleaned_line = line.strip()\n",
        "      words = cleaned_line.split()\n",
        "      words.append(\"<STOP>\")\n",
        "\n",
        "      pre_word = \"<START>\"\n",
        "      for word in words:\n",
        "        if word not in vocab:\n",
        "          word = \"unk\"\n",
        "        pre_word_freq = -1\n",
        "        if pre_word == \"<START>\":\n",
        "          pre_word_freq = spec_freq\n",
        "        else:\n",
        "          pre_word_freq = unigram_freq[pre_word]\n",
        "        log_sum += math.log(get_bigram_prob(K, len(unigram_freq), input_model, pre_word, pre_word_freq, word, True))\n",
        "        pre_word = word\n",
        "      perplexity += math.exp(-log_sum / len(words))\n",
        "    perplexity /= len(train_corpus)\n",
        "    return perplexity\n",
        "\n",
        "  if N == 3:\n",
        "    for line in train_corpus:\n",
        "      log_sum = 0\n",
        "      cleaned_line = line.strip()\n",
        "      words = cleaned_line.split()\n",
        "      words.append(\"<STOP>\")\n",
        "\n",
        "      pre_token = (\"<START>\", \"<START>\")\n",
        "      for word in words:\n",
        "        if word not in vocab:\n",
        "          word = \"unk\"\n",
        "        token_freq = -1\n",
        "        if pre_token == (\"<START>\", \"<START>\"):\n",
        "          token_freq = spec_freq\n",
        "        else:\n",
        "          token_freq = bigram_freq.get(pre_token, 0)\n",
        "        log_sum += math.log(get_trigram_prob(K, len(unigram_freq), input_model, pre_token, token_freq, True, word))\n",
        "        pre_token = (pre_token[1], word)\n",
        "      perplexity += math.exp(-log_sum / len(words))\n",
        "    perplexity /= len(train_corpus)\n",
        "    return perplexity"
      ],
      "metadata": {
        "id": "JNQi6nDJeY6B"
      },
      "execution_count": null,
      "outputs": []
    },
    {
      "cell_type": "code",
      "source": [
        "def perplexity(K, N, input_model, train_corpus, vocab, unigram_freq, bigram_freq, spec_freq):\n",
        "  perplexity = 0\n",
        "  word_count = count_for_unitoken(train_corpus)\n",
        "  process_unk(word_count, vocab)\n",
        "  if \"Resp\" in vocab:\n",
        "    print(\"Resp is in vocab\")\n",
        "\n",
        "  if N == 1:\n",
        "    for line in train_corpus:\n",
        "      log_sum = 0\n",
        "      cleaned_line = line.strip()\n",
        "      words = cleaned_line.split()\n",
        "      words.append(\"<STOP>\")\n",
        "\n",
        "      for word in words:\n",
        "        if word not in vocab:\n",
        "          word = \"unk\"\n",
        "        log_sum += math.log(input_model[word][0])\n",
        "      perplexity += math.exp(-log_sum / len(words))\n",
        "    perplexity /= len(train_corpus)\n",
        "    return perplexity\n",
        "\n",
        "  if N == 2:\n",
        "    for line in train_corpus:\n",
        "      log_sum = 0\n",
        "      cleaned_line = line.strip()\n",
        "      words = cleaned_line.split()\n",
        "      words.append(\"<STOP>\")\n",
        "\n",
        "      pre_word = \"<START>\"\n",
        "      for word in words:\n",
        "        if word not in vocab:\n",
        "          word = \"unk\"\n",
        "        try:\n",
        "          pre_word_freq = -1\n",
        "          if pre_word == \"<START>\":\n",
        "            pre_word_freq = spec_freq\n",
        "          else:\n",
        "            pre_word_freq = unigram_freq[pre_word]\n",
        "          log_sum += math.log(get_bigram_prob(K, len(unigram_freq), input_model, pre_word, pre_word_freq, word, False))\n",
        "        except:\n",
        "          return float('inf')\n",
        "        pre_word = word\n",
        "      perplexity += math.exp(-log_sum / len(words))\n",
        "    perplexity /= len(train_corpus)\n",
        "    return perplexity\n",
        "\n",
        "  if N == 3:\n",
        "    for line in train_corpus:\n",
        "      log_sum = 0\n",
        "      cleaned_line = line.strip()\n",
        "      words = cleaned_line.split()\n",
        "      words.append(\"<STOP>\")\n",
        "\n",
        "      pre_token = (\"<START>\", \"<START>\")\n",
        "      for word in words:\n",
        "        if word not in vocab:\n",
        "          word = \"unk\"\n",
        "        try:\n",
        "          token_freq = -1\n",
        "          if pre_token == (\"<START>\", \"<START>\"):\n",
        "            token_freq = spec_freq\n",
        "          else:\n",
        "            token_freq = bigram_freq.get(pre_token, 0)\n",
        "          log_sum += math.log(get_trigram_prob(K, len(unigram_freq), input_model, pre_token, token_freq, False, word))\n",
        "        except:\n",
        "          return float('inf')\n",
        "        pre_token = (pre_token[1], word)\n",
        "      perplexity += math.exp(-log_sum / len(words))\n",
        "    perplexity /= len(train_corpus)\n",
        "    return perplexity"
      ],
      "metadata": {
        "id": "gkdHyJnwYlMC"
      },
      "execution_count": null,
      "outputs": []
    },
    {
      "cell_type": "code",
      "source": [
        "def gen_interp_fixed(var):\n",
        "  v1 = random.uniform(-var, var)\n",
        "  num1 = 0.1 + v1\n",
        "  v2 = random.uniform(-var, var)\n",
        "  num2 = 0.3 + v2\n",
        "  num3 = 1 - num1 - num2\n",
        "\n",
        "  return [num1, num2, num3]"
      ],
      "metadata": {
        "id": "fCe7b839K65g"
      },
      "execution_count": null,
      "outputs": []
    },
    {
      "cell_type": "code",
      "source": [
        "def gen_interp_rand():\n",
        "  num1 = random.uniform(0, 1)\n",
        "  num2 = random.uniform(0, 1 - num1)\n",
        "  num3 = 1 - num1 - num2\n",
        "\n",
        "  return [num1, num2, num3]"
      ],
      "metadata": {
        "id": "bdGPc1Bh25Rw"
      },
      "execution_count": null,
      "outputs": []
    },
    {
      "cell_type": "markdown",
      "source": [
        "# 1.2 (a)\n",
        "In general, the process involves several steps:\n",
        "\n",
        "Firstly, the training file is processed by reading it and splitting it into individual tokens.\n",
        "\n",
        "Secondly, the frequency of each token and the type of token are counted.\n",
        "\n",
        "Thirdly, out-of-vocabulary (OOV) words are converted into \"unk\" and the token frequency is updated accordingly.\n",
        "\n",
        "For the unigram model, the probability of each word/unigram token is calculated using the equation: word frequency / total number of words. I use dict to store my unigram model: word -> prob\n",
        "\n",
        "For the bigram model, the bigram token frequency is also calculated. The probability of each bigram token is then calculated using the equation: bigram token frequency of (pre_word, word) / word frequency. I use 2D dict to store my bigram model: pre_word -> (word -> prob)\n",
        "\n",
        "For the trigram model, the trigram token frequency is also calculated. The probability of each trigram token is then calculated using the equation: trigram token frequency of (pre_pre_word, pre_word, word) / bigram token frequency of (pre_word, word). I use 2D dict to store my trigram model: pre_token -> (word -> prob)\n",
        "\n",
        "In the implementation, both smoothed and unsmoothed probabilities are stored for each token."
      ],
      "metadata": {
        "id": "gL2OWI-Ps-fZ"
      }
    },
    {
      "cell_type": "markdown",
      "source": [
        "# 1.3 (b)\n",
        "Step 1, I computed the perplexity for each line in the corpus. To calculate the perplexity for a line, I simply just followed the equation -- exponential of the average cross-entropy: I summed the logarithm of the probabilities of each unigram/bigram/trigram token, then negated this sum and divided it by the total number of words in the line. Finally, I exponentiated the result to obtain the line perplexity.\n",
        "\n",
        "Step 2, I aggregated the perplexities of all the lines and divided the sum by the total number of lines. This yielded the overall perplexity we sought."
      ],
      "metadata": {
        "id": "aEvffw_F3mV5"
      }
    },
    {
      "cell_type": "code",
      "source": [
        "K = 1\n",
        "unk = 3\n",
        "train_f = train.readlines()\n",
        "dev_f = dev.readlines()\n",
        "test_f = test.readlines()\n",
        "spec_freq = len(train_f)\n",
        "unigram_freq = count_for_unitoken(train_f)\n",
        "unk_list = filter_unk(unigram_freq, unk)\n",
        "vocab = unigram_freq.keys()\n",
        "size = len(vocab)\n",
        "bigram_freq = count_for_bitoken(train_f, unk_list)\n",
        "unigram_model = unigram(train_f, K, unk)\n",
        "bigram_model = bigram(train_f, K, unk)\n",
        "trigram_model = trigram(train_f, bigram_model, K, unk)\n",
        "print(\"perplexity of unigram on train without smoothing: \", perplexity(K, 1, unigram_model, train_f, vocab, unigram_freq, bigram_freq, spec_freq))\n",
        "print(\"perplexity of bigram on train without smoothing:  \", perplexity(K, 2, bigram_model, train_f, vocab, unigram_freq, bigram_freq, spec_freq))\n",
        "print(\"perplexity of trigram on train without smoothing: \", perplexity(K, 3, trigram_model, train_f, vocab, unigram_freq, bigram_freq, spec_freq))\n",
        "print(\"perplexity of unigram on train with smoothing: \", perplexity_laplace(K, 1, unigram_model, train_f, vocab, unigram_freq, bigram_freq, spec_freq))\n",
        "print(\"perplexity of bigram on train with smoothing:  \", perplexity_laplace(K, 2, bigram_model, train_f, vocab, unigram_freq, bigram_freq, spec_freq))\n",
        "print(\"perplexity of trigram on train with smoothing: \", perplexity_laplace(K, 3, trigram_model, train_f, vocab, unigram_freq, bigram_freq, spec_freq))"
      ],
      "metadata": {
        "id": "cbduiXiVTq_4",
        "colab": {
          "base_uri": "https://localhost:8080/"
        },
        "outputId": "af0a0324-e382-4e2d-abf2-580737db831a"
      },
      "execution_count": null,
      "outputs": [
        {
          "output_type": "stream",
          "name": "stdout",
          "text": [
            "perplexity of unigram on train without smoothing:  1080.3685030258303\n",
            "perplexity of bigram on train without smoothing:   77.98885904992798\n",
            "perplexity of trigram on train without smoothing:  8.548193804854302\n",
            "perplexity of unigram on train with smoothing:  1078.0014775956308\n",
            "perplexity of bigram on train with smoothing:   1557.0771005743309\n",
            "perplexity of trigram on train with smoothing:  6420.998230372765\n"
          ]
        }
      ]
    },
    {
      "cell_type": "code",
      "source": [
        "print(\"perplexity of unigram on dev without smoothing: \", perplexity(K, 1, unigram_model, dev_f, vocab, unigram_freq, bigram_freq, spec_freq))\n",
        "print(\"perplexity of bigram on dev without smoothing:  \", perplexity(K, 2, bigram_model, dev_f, vocab, unigram_freq, bigram_freq, spec_freq))\n",
        "print(\"perplexity of trigram on dev without smoothing: \", perplexity(K, 3, trigram_model, dev_f, vocab, unigram_freq, bigram_freq, spec_freq))\n",
        "print(\"perplexity of unigram on dev with smoothing: \", perplexity_laplace(K, 1, unigram_model, dev_f, vocab, unigram_freq, bigram_freq, spec_freq))\n",
        "print(\"perplexity of bigram on dev with smoothing:  \", perplexity_laplace(K, 2, bigram_model, dev_f, vocab, unigram_freq, bigram_freq, spec_freq))\n",
        "print(\"perplexity of trigram on dev with smoothing: \", perplexity_laplace(K, 3, trigram_model, dev_f, vocab, unigram_freq, bigram_freq, spec_freq))"
      ],
      "metadata": {
        "id": "-65qh5nLGHbS",
        "colab": {
          "base_uri": "https://localhost:8080/"
        },
        "outputId": "50753830-8cab-4828-88d9-dcae1032c23b"
      },
      "execution_count": null,
      "outputs": [
        {
          "output_type": "stream",
          "name": "stdout",
          "text": [
            "perplexity of unigram on dev without smoothing:  985.5580004902903\n",
            "perplexity of bigram on dev without smoothing:   inf\n",
            "perplexity of trigram on dev without smoothing:  inf\n",
            "perplexity of unigram on dev with smoothing:  985.3139714750719\n",
            "perplexity of bigram on dev with smoothing:   1866.2182648946334\n",
            "perplexity of trigram on dev with smoothing:  10184.99583886916\n"
          ]
        }
      ]
    },
    {
      "cell_type": "code",
      "source": [
        "print(\"perplexity of unigram on test without smoothing: \", perplexity(K, 1, unigram_model, test_f, vocab, unigram_freq, bigram_freq, spec_freq))\n",
        "print(\"perplexity of bigram on test without smoothing:  \", perplexity(K, 2, bigram_model, test_f, vocab, unigram_freq, bigram_freq, spec_freq))\n",
        "print(\"perplexity of trigram on test without smoothing: \", perplexity(K, 3, trigram_model, test_f, vocab, unigram_freq, bigram_freq, spec_freq))\n",
        "print(\"perplexity of unigram on test with smoothing: \", perplexity_laplace(K, 1, unigram_model, test_f, vocab, unigram_freq, bigram_freq, spec_freq))\n",
        "print(\"perplexity of bigram on test with smoothing:  \", perplexity_laplace(K, 2, bigram_model, test_f, vocab, unigram_freq, bigram_freq, spec_freq))\n",
        "print(\"perplexity of trigram on test with smoothing: \", perplexity_laplace(K, 3, trigram_model, test_f, vocab, unigram_freq, bigram_freq, spec_freq))"
      ],
      "metadata": {
        "id": "hoPV0yBETu18",
        "colab": {
          "base_uri": "https://localhost:8080/"
        },
        "outputId": "ebe3ef46-34cf-4b02-ebed-e8a81888f3d3"
      },
      "execution_count": null,
      "outputs": [
        {
          "output_type": "stream",
          "name": "stdout",
          "text": [
            "perplexity of unigram on test without smoothing:  998.7254932134222\n",
            "perplexity of bigram on test without smoothing:   inf\n",
            "perplexity of trigram on test without smoothing:  inf\n",
            "perplexity of unigram on test with smoothing:  998.247018669925\n",
            "perplexity of bigram on test with smoothing:   1864.0726257705326\n",
            "perplexity of trigram on test with smoothing:  10160.802419885664\n"
          ]
        }
      ]
    },
    {
      "cell_type": "markdown",
      "source": [
        "# 1.2 (c)\n",
        "\n",
        "The potential downside of Laplace smoothing lies in its potential to overestimate probabilities. By uniformly adding 1 to each token during probability calculation, there's a risk of artificially inflating the probabilities of rare events, thereby leading to biased estimates. For instance, in my trigram model, the probability of the trigram token ('\\<START>', '\\<START>', 'Nursing') initially stood at a minimum value of 1.6252234682268813e-05. However, after applying Laplace smoothing, the probability increased to 2.2693232877955795e-05, indicating a potential bias in estimation.\n",
        "\n",
        "Further evidence can be observed in the graph depicting the relationship between k values and the perplexity (PPL) of N-gram models with smoothing, as illustrated in the subsequent section 1.2 (d). In this graph, both bigram and trigram models exhibit an increase in PPL with higher k values, particularly noticeable in the case of the trigram model. This trend provides additional support for the potential limitations of Laplace smoothing in certain contexts."
      ],
      "metadata": {
        "id": "EetKpGqIo7XG"
      }
    },
    {
      "cell_type": "code",
      "source": [
        "min_prob_unsmooth = 1\n",
        "min_tri_token = \"\"\n",
        "for token in trigram_model:\n",
        "  for word, prob in trigram_model[token].items():\n",
        "    if min_prob_unsmooth > prob[0]:\n",
        "      min_prob_unsmooth = prob[0]\n",
        "      min_tri_token = (token[0], token[1], word)\n",
        "print(\"The trigram token with minmun unsmooth probability is: \", min_tri_token)\n",
        "print(\"It's unsmooth probability is : \", min_prob_unsmooth)\n",
        "print(\"It's smooth probability is : \", trigram_model[(min_tri_token[0], min_tri_token[1])][min_tri_token[2]][1])"
      ],
      "metadata": {
        "colab": {
          "base_uri": "https://localhost:8080/"
        },
        "id": "Hqfe3LWPmHMV",
        "outputId": "8b7bb3f7-47fe-45a7-d070-97299feb136e"
      },
      "execution_count": null,
      "outputs": [
        {
          "output_type": "stream",
          "name": "stdout",
          "text": [
            "The trigram token with minmun unsmooth probability is:  ('<START>', '<START>', 'Nursing')\n",
            "It's unsmooth probability is :  1.6252234682268813e-05\n",
            "It's smooth probability is :  2.2693232877955795e-05\n"
          ]
        }
      ]
    },
    {
      "cell_type": "markdown",
      "source": [
        "# 1.2 (d)\n",
        "The perplexity score increases as k increases."
      ],
      "metadata": {
        "id": "j_FG2m3A-_X1"
      }
    },
    {
      "cell_type": "code",
      "source": [
        "K1 = random.random()\n",
        "K2 = random.random()\n",
        "K3 = random.random()\n",
        "unigram_model_K1 = unigram(train_f, K1, unk)\n",
        "bigram_model_K1 = bigram(train_f, K1, unk)\n",
        "trigram_model_K1 = trigram(train_f, bigram_model, K1, unk)\n",
        "\n",
        "unigram_model_K2 = unigram(train_f, K2, unk)\n",
        "bigram_model_K2 = bigram(train_f, K2, unk)\n",
        "trigram_model_K2 = trigram(train_f, bigram_model, K2, unk)\n",
        "\n",
        "unigram_model_K3 = unigram(train_f, K3, unk)\n",
        "bigram_model_K3 = bigram(train_f, K3, unk)\n",
        "trigram_model_K3 = trigram(train_f, bigram_model, K3, unk)"
      ],
      "metadata": {
        "id": "hfG4FXvlCcp4"
      },
      "execution_count": null,
      "outputs": []
    },
    {
      "cell_type": "code",
      "source": [
        "uni_ppl_unsmooth_K1 = perplexity(K1, 1, unigram_model_K1, test_f, vocab, unigram_freq, bigram_freq, spec_freq)\n",
        "bi_ppl_unsmooth_K1 = perplexity(K1, 2, bigram_model_K1, test_f, vocab, unigram_freq, bigram_freq, spec_freq)\n",
        "tri_ppl_unsmooth_K1 = perplexity(K1, 3, trigram_model_K1, test_f, vocab, unigram_freq, bigram_freq, spec_freq)\n",
        "print(f\"perplexity of unigram on test without smoothing for k = {K1}: \", uni_ppl_unsmooth_K1)\n",
        "print(f\"perplexity of bigram on test without smoothing for k = {K1}: \", bi_ppl_unsmooth_K1)\n",
        "print(f\"perplexity of trigram on test without smoothing for k = {K1}: \", tri_ppl_unsmooth_K1)\n",
        "uni_ppl_smooth_K1 = perplexity_laplace(K1, 1, unigram_model_K1, test_f, vocab, unigram_freq, bigram_freq, spec_freq)\n",
        "bi_ppl_smooth_K1 = perplexity_laplace(K1, 2, bigram_model_K1, test_f, vocab, unigram_freq, bigram_freq, spec_freq)\n",
        "tri_ppl_smooth_K1 = perplexity_laplace(K1, 3, trigram_model_K1, test_f, vocab, unigram_freq, bigram_freq, spec_freq)\n",
        "print(f\"perplexity of unigram on test with smoothing for k = {K1}: \", uni_ppl_smooth_K1)\n",
        "print(f\"perplexity of bigram on test with smoothing for k = {K1}: \", bi_ppl_smooth_K1)\n",
        "print(f\"perplexity of trigram on test with smoothing for k = {K1}: \", tri_ppl_smooth_K1)\n",
        "\n",
        "uni_ppl_unsmooth_K2 = perplexity(K2, 1, unigram_model_K2, test_f, vocab, unigram_freq, bigram_freq, spec_freq)\n",
        "bi_ppl_unsmooth_K2 = perplexity(K2, 2, bigram_model_K2, test_f, vocab, unigram_freq, bigram_freq, spec_freq)\n",
        "tri_ppl_unsmooth_K2 = perplexity(K2, 3, trigram_model_K2, test_f, vocab, unigram_freq, bigram_freq, spec_freq)\n",
        "print(f\"perplexity of unigram on test without smoothing for k = {K2}: \", uni_ppl_unsmooth_K2)\n",
        "print(f\"perplexity of bigram on test without smoothing for k = {K2}: \", bi_ppl_unsmooth_K2)\n",
        "print(f\"perplexity of trigram on test without smoothing for k = {K2}: \", tri_ppl_unsmooth_K2)\n",
        "uni_ppl_smooth_K2 = perplexity_laplace(K2, 1, unigram_model_K2, test_f, vocab, unigram_freq, bigram_freq, spec_freq)\n",
        "bi_ppl_smooth_K2 = perplexity_laplace(K2, 2, bigram_model_K2, test_f, vocab, unigram_freq, bigram_freq, spec_freq)\n",
        "tri_ppl_smooth_K2 = perplexity_laplace(K2, 3, trigram_model_K2, test_f, vocab, unigram_freq, bigram_freq, spec_freq)\n",
        "print(f\"perplexity of unigram on test with smoothing for k = {K2}: \", uni_ppl_smooth_K2)\n",
        "print(f\"perplexity of bigram on test with smoothing for k = {K2}: \", bi_ppl_smooth_K2)\n",
        "print(f\"perplexity of trigram on test with smoothing for k = {K2}: \", tri_ppl_smooth_K2)\n",
        "\n",
        "uni_ppl_unsmooth_K3 = perplexity(K3, 1, unigram_model_K3, test_f, vocab, unigram_freq, bigram_freq, spec_freq)\n",
        "bi_ppl_unsmooth_K3 = perplexity(K3, 2, bigram_model_K3, test_f, vocab, unigram_freq, bigram_freq, spec_freq)\n",
        "tri_ppl_unsmooth_K3 = perplexity(K3, 3, trigram_model_K3, test_f, vocab, unigram_freq, bigram_freq, spec_freq)\n",
        "print(f\"perplexity of unigram on test without smoothing for k = {K3}: \", uni_ppl_unsmooth_K3)\n",
        "print(f\"perplexity of bigram on test without smoothing for k = {K3}: \", bi_ppl_unsmooth_K3)\n",
        "print(f\"perplexity of trigram on test without smoothing for k = {K3}: \", tri_ppl_unsmooth_K3)\n",
        "uni_ppl_smooth_K3 = perplexity_laplace(K3, 1, unigram_model_K3, test_f, vocab, unigram_freq, bigram_freq, spec_freq)\n",
        "bi_ppl_smooth_K3 = perplexity_laplace(K3, 2, bigram_model_K3, test_f, vocab, unigram_freq, bigram_freq, spec_freq)\n",
        "tri_ppl_smooth_K3 = perplexity_laplace(K3, 3, trigram_model_K3, test_f, vocab, unigram_freq, bigram_freq, spec_freq)\n",
        "print(f\"perplexity of unigram on test with smoothing for k = {K3}: \", uni_ppl_smooth_K3)\n",
        "print(f\"perplexity of bigram on test with smoothing for k = {K3}: \", bi_ppl_smooth_K3)\n",
        "print(f\"perplexity of trigram on test with smoothing for k = {K3}: \", tri_ppl_smooth_K3)"
      ],
      "metadata": {
        "colab": {
          "base_uri": "https://localhost:8080/"
        },
        "id": "kh79dytNNioR",
        "outputId": "2fcd88c6-f2a6-460f-92ba-bbd99cafffca"
      },
      "execution_count": null,
      "outputs": [
        {
          "output_type": "stream",
          "name": "stdout",
          "text": [
            "perplexity of unigram on test without smoothing for k = 0.9393556645493956:  998.7254932134222\n",
            "perplexity of bigram on test without smoothing for k = 0.9393556645493956:  inf\n",
            "perplexity of trigram on test without smoothing for k = 0.9393556645493956:  inf\n",
            "perplexity of unigram on test with smoothing for k = 0.9393556645493956:  998.2198038588477\n",
            "perplexity of bigram on test with smoothing for k = 0.9393556645493956:  1816.8204021647102\n",
            "perplexity of trigram on test with smoothing for k = 0.9393556645493956:  10004.98454917514\n",
            "perplexity of unigram on test without smoothing for k = 0.3604337412593719:  998.7254932134222\n",
            "perplexity of bigram on test without smoothing for k = 0.3604337412593719:  inf\n",
            "perplexity of trigram on test without smoothing for k = 0.3604337412593719:  inf\n",
            "perplexity of unigram on test with smoothing for k = 0.3604337412593719:  998.3047104612003\n",
            "perplexity of bigram on test with smoothing for k = 0.3604337412593719:  1257.853544741693\n",
            "perplexity of trigram on test with smoothing for k = 0.3604337412593719:  7857.035699630031\n",
            "perplexity of unigram on test without smoothing for k = 0.2716381391001915:  998.7254932134222\n",
            "perplexity of bigram on test without smoothing for k = 0.2716381391001915:  inf\n",
            "perplexity of trigram on test without smoothing for k = 0.2716381391001915:  inf\n",
            "perplexity of unigram on test with smoothing for k = 0.2716381391001915:  998.379304976322\n",
            "perplexity of bigram on test with smoothing for k = 0.2716381391001915:  1140.649310643902\n",
            "perplexity of trigram on test with smoothing for k = 0.2716381391001915:  7316.697858265984\n"
          ]
        }
      ]
    },
    {
      "cell_type": "code",
      "source": [
        "k_list = [K1, K2, K3]\n",
        "uni_ppl_smooth_list = [uni_ppl_smooth_K1, uni_ppl_smooth_K2, uni_ppl_smooth_K3]\n",
        "bi_ppl_smooth_list = [bi_ppl_smooth_K1, bi_ppl_smooth_K2, bi_ppl_smooth_K3]\n",
        "tri_ppl_smooth_list = [tri_ppl_smooth_K1, uni_ppl_smooth_K2, uni_ppl_smooth_K3]\n",
        "\n",
        "plt.plot(k_list, uni_ppl_smooth_list, label='Unigram_PPL')\n",
        "plt.plot(k_list, bi_ppl_smooth_list, label='Bigram_PPL')\n",
        "plt.plot(k_list, tri_ppl_smooth_list, label='Trigram_PPL')\n",
        "\n",
        "plt.xlabel('K values')\n",
        "plt.ylabel('PPL with smooth')\n",
        "plt.title('Ngram model\\'s PPL changing with smoothing K')\n",
        "plt.legend()\n",
        "\n",
        "\n",
        "plt.show()"
      ],
      "metadata": {
        "colab": {
          "base_uri": "https://localhost:8080/",
          "height": 472
        },
        "id": "7flDPnzjdd4c",
        "outputId": "65fdfd37-1331-4442-86b5-6662553d9cdd"
      },
      "execution_count": null,
      "outputs": [
        {
          "output_type": "display_data",
          "data": {
            "text/plain": [
              "<Figure size 640x480 with 1 Axes>"
            ],
            "image/png": "[encoded data removed]"
          },
          "metadata": {}
        }
      ]
    },
    {
      "cell_type": "markdown",
      "source": [
        "# 1.2 (e)\n",
        "In my training set, the unsmoothed versions for the unigram, bigram, and trigram models exhibit an expected pattern, where the trigram model (with the smallest perplexity (PPL) value) ideally performs better than the bigram model, which in turn performs better than the unigram model (with the largest PPL value). However, the situation is reversed in my smoothed versions, where the PPL of the unigram model is less than that of the bigram model, which is less than that of the trigram model. This discrepancy could serve as evidence of overestimation resulting from Laplace smoothing. In the trigram model, there are numerous rare trigram tokens with extremely low frequencies present in the corpus. Consequently, their probabilities could be significantly lower compared to the probabilities of unigram tokens in the unigram model. Thus, Laplace smoothing tends to overestimate the probabilities of these rare trigram tokens. This same phenomenon is observed in the smoothed versions for the development and test sets as well.\n",
        "\n",
        "For the development and test sets, the unsmoothed versions of the bigram and trigram models yield infinite values. This occurs because my bigram and trigram models lack probabilities for certain bigram and trigram tokens in the development and test sets, resulting in zero probabilities. Consequently, when calculating perplexity, attempting to take the logarithm of zero probability results in an infinite value."
      ],
      "metadata": {
        "id": "iNigpdmHByz1"
      }
    },
    {
      "cell_type": "markdown",
      "source": [
        "# 1.3 (a)"
      ],
      "metadata": {
        "id": "nmUCEdIvEL4U"
      }
    },
    {
      "cell_type": "code",
      "source": [
        "opti_hyper = [0.531742, 0.420426, 0.047832]\n",
        "print(f\"My best combination of hyperparameters is: {opti_hyper[0]}, {opti_hyper[1]}, {opti_hyper[2]}\")\n",
        "interp_ppl_unsmooth = perplexity_interpolated(K, dev_f, vocab, size, opti_hyper, unigram_model, bigram_model, trigram_model, unigram_freq, bigram_freq, spec_freq, False)\n",
        "interp_ppl_smooth = perplexity_interpolated(K, dev_f, vocab, size, opti_hyper, unigram_model, bigram_model, trigram_model, unigram_freq, bigram_freq, spec_freq, True)\n",
        "print(f\"perplexity of interpolation on dev without smoothing for hyperparameters {opti_hyper[0]}, {opti_hyper[1]}, {opti_hyper[2]}:  \", interp_ppl_unsmooth)\n",
        "print(f\"perplexity of interpolation on dev with smoothing for hyperparameters {opti_hyper[0]}, {opti_hyper[1]}, {opti_hyper[2]}:  \", interp_ppl_smooth)"
      ],
      "metadata": {
        "colab": {
          "base_uri": "https://localhost:8080/"
        },
        "id": "TqbOv-vlPTnh",
        "outputId": "dc53d7ae-9925-4078-d0c9-05d7c7ca550e"
      },
      "execution_count": null,
      "outputs": [
        {
          "output_type": "stream",
          "name": "stdout",
          "text": [
            "My best combination of hyperparameters is: 0.531742, 0.420426, 0.047832\n",
            "perplexity of interpolation on dev without smoothing for hyperparameters 0.531742, 0.420426, 0.047832:   340.0894018669363\n",
            "perplexity of interpolation on dev with smoothing for hyperparameters 0.531742, 0.420426, 0.047832:   360.0779423181838\n"
          ]
        }
      ]
    },
    {
      "cell_type": "code",
      "source": [
        "pool = [0.1, 0.3, 0.6]\n",
        "pool1 = gen_interp_fixed(0.1)\n",
        "pool2 = gen_interp_fixed(0.2)\n",
        "pool3 = gen_interp_rand()\n",
        "pool4 = gen_interp_rand()\n",
        "pool5 = gen_interp_rand()"
      ],
      "metadata": {
        "id": "jxUOzxJDXK61"
      },
      "execution_count": null,
      "outputs": []
    },
    {
      "cell_type": "code",
      "source": [
        "interp_ppl_unsmooth = perplexity_interpolated(K, dev_f, vocab, size, pool, unigram_model, bigram_model, trigram_model, unigram_freq, bigram_freq, spec_freq, False)\n",
        "interp_ppl_smooth = perplexity_interpolated(K, dev_f, vocab, size, pool, unigram_model, bigram_model, trigram_model, unigram_freq, bigram_freq, spec_freq, True)\n",
        "print(f\"perplexity of interpolation on dev without smoothing for hyperparameters {pool[0]}, {pool[1]}, {pool[2]}:  \", interp_ppl_unsmooth)\n",
        "print(f\"perplexity of interpolation on dev with smoothing for hyperparameters {pool[0]}, {pool[1]}, {pool[2]}:  \", interp_ppl_smooth)\n",
        "interp_ppl_unsmooth = perplexity_interpolated(K, train_f, vocab, size, pool, unigram_model, bigram_model, trigram_model, unigram_freq, bigram_freq, spec_freq, False)\n",
        "interp_ppl_smooth = perplexity_interpolated(K, train_f, vocab, size, pool, unigram_model, bigram_model, trigram_model, unigram_freq, bigram_freq, spec_freq, True)\n",
        "print(f\"perplexity of interpolation on train without smoothing for hyperparameters {pool[0]}, {pool[1]}, {pool[2]}:  \", interp_ppl_unsmooth)\n",
        "print(f\"perplexity of interpolation on train with smoothing for hyperparameters {pool[0]}, {pool[1]}, {pool[2]}:  \", interp_ppl_smooth)\n",
        "\n",
        "interp_ppl_unsmooth = perplexity_interpolated(K, dev_f, vocab, size, pool1, unigram_model, bigram_model, trigram_model, unigram_freq, bigram_freq, spec_freq, False)\n",
        "interp_ppl_smooth = perplexity_interpolated(K, dev_f, vocab, size, pool1, unigram_model, bigram_model, trigram_model, unigram_freq, bigram_freq, spec_freq, True)\n",
        "print(f\"perplexity of interpolation on dev without smoothing for hyperparameters {pool1[0]}, {pool1[1]}, {pool1[2]}:  \", interp_ppl_unsmooth)\n",
        "print(f\"perplexity of interpolation on dev with smoothing for hyperparameters {pool1[0]}, {pool1[1]}, {pool1[2]}:  \", interp_ppl_smooth)\n",
        "interp_ppl_unsmooth = perplexity_interpolated(K, train_f, vocab, size, pool1, unigram_model, bigram_model, trigram_model, unigram_freq, bigram_freq, spec_freq, False)\n",
        "interp_ppl_smooth = perplexity_interpolated(K, train_f, vocab, size, pool1, unigram_model, bigram_model, trigram_model, unigram_freq, bigram_freq, spec_freq, True)\n",
        "print(f\"perplexity of interpolation on train without smoothing for hyperparameters {pool1[0]}, {pool1[1]}, {pool1[2]}:  \", interp_ppl_unsmooth)\n",
        "print(f\"perplexity of interpolation on train with smoothing for hyperparameters {pool1[0]}, {pool1[1]}, {pool1[2]}:  \", interp_ppl_smooth)\n",
        "\n",
        "interp_ppl_unsmooth = perplexity_interpolated(K, dev_f, vocab, size, pool2, unigram_model, bigram_model, trigram_model, unigram_freq, bigram_freq, spec_freq, False)\n",
        "interp_ppl_smooth = perplexity_interpolated(K, dev_f, vocab, size, pool2, unigram_model, bigram_model, trigram_model, unigram_freq, bigram_freq, spec_freq, True)\n",
        "print(f\"perplexity of interpolation on dev without smoothing for hyperparameters {pool2[0]}, {pool2[1]}, {pool2[2]}:  \", interp_ppl_unsmooth)\n",
        "print(f\"perplexity of interpolation on dev with smoothing for hyperparameters {pool2[0]}, {pool2[1]}, {pool2[2]}:  \", interp_ppl_smooth)\n",
        "interp_ppl_unsmooth = perplexity_interpolated(K, train_f, vocab, size, pool2, unigram_model, bigram_model, trigram_model, unigram_freq, bigram_freq, spec_freq, False)\n",
        "interp_ppl_smooth = perplexity_interpolated(K, train_f, vocab, size, pool2, unigram_model, bigram_model, trigram_model, unigram_freq, bigram_freq, spec_freq, True)\n",
        "print(f\"perplexity of interpolation on train without smoothing for hyperparameters {pool2[0]}, {pool2[1]}, {pool2[2]}:  \", interp_ppl_unsmooth)\n",
        "print(f\"perplexity of interpolation on train with smoothing for hyperparameters {pool2[0]}, {pool2[1]}, {pool2[2]}:  \", interp_ppl_smooth)\n",
        "\n",
        "interp_ppl_unsmooth = perplexity_interpolated(K, dev_f, vocab, size, pool3, unigram_model, bigram_model, trigram_model, unigram_freq, bigram_freq, spec_freq, False)\n",
        "interp_ppl_smooth = perplexity_interpolated(K, dev_f, vocab, size, pool3, unigram_model, bigram_model, trigram_model, unigram_freq, bigram_freq, spec_freq, True)\n",
        "print(f\"perplexity of interpolation on dev without smoothing for hyperparameters {pool3[0]}, {pool3[1]}, {pool3[2]}:  \", interp_ppl_unsmooth)\n",
        "print(f\"perplexity of interpolation on dev with smoothing for hyperparameters {pool3[0]}, {pool3[1]}, {pool3[2]}:  \", interp_ppl_smooth)\n",
        "interp_ppl_unsmooth = perplexity_interpolated(K, train_f, vocab, size, pool3, unigram_model, bigram_model, trigram_model, unigram_freq, bigram_freq, spec_freq, False)\n",
        "interp_ppl_smooth = perplexity_interpolated(K, train_f, vocab, size, pool3, unigram_model, bigram_model, trigram_model, unigram_freq, bigram_freq, spec_freq, True)\n",
        "print(f\"perplexity of interpolation on train without smoothing for hyperparameters {pool3[0]}, {pool3[1]}, {pool3[2]}:  \", interp_ppl_unsmooth)\n",
        "print(f\"perplexity of interpolation on train with smoothing for hyperparameters {pool3[0]}, {pool3[1]}, {pool3[2]}:  \", interp_ppl_smooth)\n",
        "\n",
        "interp_ppl_unsmooth = perplexity_interpolated(K, dev_f, vocab, size, pool4, unigram_model, bigram_model, trigram_model, unigram_freq, bigram_freq, spec_freq, False)\n",
        "interp_ppl_smooth = perplexity_interpolated(K, dev_f, vocab, size, pool4, unigram_model, bigram_model, trigram_model, unigram_freq, bigram_freq, spec_freq, True)\n",
        "print(f\"perplexity of interpolation on dev without smoothing for hyperparameters {pool4[0]}, {pool4[1]}, {pool4[2]}:  \", interp_ppl_unsmooth)\n",
        "print(f\"perplexity of interpolation on dev with smoothing for hyperparameters {pool4[0]}, {pool4[1]}, {pool4[2]}:  \", interp_ppl_smooth)\n",
        "interp_ppl_unsmooth = perplexity_interpolated(K, train_f, vocab, size, pool4, unigram_model, bigram_model, trigram_model, unigram_freq, bigram_freq, spec_freq, False)\n",
        "interp_ppl_smooth = perplexity_interpolated(K, train_f, vocab, size, pool4, unigram_model, bigram_model, trigram_model, unigram_freq, bigram_freq, spec_freq, True)\n",
        "print(f\"perplexity of interpolation on train without smoothing for hyperparameters {pool4[0]}, {pool4[1]}, {pool4[2]}:  \", interp_ppl_unsmooth)\n",
        "print(f\"perplexity of interpolation on train with smoothing for hyperparameters {pool4[0]}, {pool4[1]}, {pool4[2]}:  \", interp_ppl_smooth)\n",
        "\n",
        "interp_ppl_unsmooth = perplexity_interpolated(K, dev_f, vocab, size, pool5, unigram_model, bigram_model, trigram_model, unigram_freq, bigram_freq, spec_freq, False)\n",
        "interp_ppl_smooth = perplexity_interpolated(K, dev_f, vocab, size, pool5, unigram_model, bigram_model, trigram_model, unigram_freq, bigram_freq, spec_freq, True)\n",
        "print(f\"perplexity of interpolation on dev without smoothing for hyperparameters {pool5[0]}, {pool5[1]}, {pool5[2]}:  \", interp_ppl_unsmooth)\n",
        "print(f\"perplexity of interpolation on dev with smoothing for hyperparameters {pool5[0]}, {pool5[1]}, {pool5[2]}:  \", interp_ppl_smooth)\n",
        "interp_ppl_unsmooth = perplexity_interpolated(K, train_f, vocab, size, pool5, unigram_model, bigram_model, trigram_model, unigram_freq, bigram_freq, spec_freq, False)\n",
        "interp_ppl_smooth = perplexity_interpolated(K, train_f, vocab, size, pool5, unigram_model, bigram_model, trigram_model, unigram_freq, bigram_freq, spec_freq, True)\n",
        "print(f\"perplexity of interpolation on train without smoothing for hyperparameters {pool5[0]}, {pool5[1]}, {pool5[2]}:  \", interp_ppl_unsmooth)\n",
        "print(f\"perplexity of interpolation on train with smoothing for hyperparameters {pool5[0]}, {pool5[1]}, {pool5[2]}:  \", interp_ppl_smooth)"
      ],
      "metadata": {
        "id": "aU1CjbhC5ghQ",
        "colab": {
          "base_uri": "https://localhost:8080/"
        },
        "outputId": "928f7248-09e0-40ef-abe3-c4ece2def7d2"
      },
      "execution_count": null,
      "outputs": [
        {
          "output_type": "stream",
          "name": "stdout",
          "text": [
            "perplexity of interpolation on dev without smoothing for hyperparameters 0.1, 0.3, 0.6:   534.6931564837076\n",
            "perplexity of interpolation on dev with smoothing for hyperparameters 0.1, 0.3, 0.6:   585.5165835126105\n",
            "perplexity of interpolation on train without smoothing for hyperparameters 0.1, 0.3, 0.6:   11.883591542089817\n",
            "perplexity of interpolation on train with smoothing for hyperparameters 0.1, 0.3, 0.6:   192.95334611988721\n",
            "perplexity of interpolation on dev without smoothing for hyperparameters 0.14755282570936595, 0.21850442546834697, 0.6339427488222871:   517.2581011914799\n",
            "perplexity of interpolation on dev with smoothing for hyperparameters 0.14755282570936595, 0.21850442546834697, 0.6339427488222871:   625.4485806927094\n",
            "perplexity of interpolation on train without smoothing for hyperparameters 0.14755282570936595, 0.21850442546834697, 0.6339427488222871:   11.709528505659422\n",
            "perplexity of interpolation on train with smoothing for hyperparameters 0.14755282570936595, 0.21850442546834697, 0.6339427488222871:   236.3760873119985\n",
            "perplexity of interpolation on dev without smoothing for hyperparameters 0.17436318600033432, 0.21272670103405855, 0.6129101129656072:   493.3884937793069\n",
            "perplexity of interpolation on dev with smoothing for hyperparameters 0.17436318600033432, 0.21272670103405855, 0.6129101129656072:   608.7944541331\n",
            "perplexity of interpolation on train without smoothing for hyperparameters 0.17436318600033432, 0.21272670103405855, 0.6129101129656072:   12.058144071884813\n",
            "perplexity of interpolation on train with smoothing for hyperparameters 0.17436318600033432, 0.21272670103405855, 0.6129101129656072:   237.71481739511964\n",
            "perplexity of interpolation on dev without smoothing for hyperparameters 0.47512142959162307, 0.18925370967601468, 0.33562486073236225:   383.4987945773886\n",
            "perplexity of interpolation on dev with smoothing for hyperparameters 0.47512142959162307, 0.18925370967601468, 0.33562486073236225:   494.31649726338327\n",
            "perplexity of interpolation on train without smoothing for hyperparameters 0.47512142959162307, 0.18925370967601468, 0.33562486073236225:   19.49282473995578\n",
            "perplexity of interpolation on train with smoothing for hyperparameters 0.47512142959162307, 0.18925370967601468, 0.33562486073236225:   231.892618252011\n",
            "perplexity of interpolation on dev without smoothing for hyperparameters 0.4074959302238965, 0.1052622401583267, 0.4872418296177768:   447.0865761808299\n",
            "perplexity of interpolation on dev with smoothing for hyperparameters 0.4074959302238965, 0.1052622401583267, 0.4872418296177768:   640.1236128474551\n",
            "perplexity of interpolation on train without smoothing for hyperparameters 0.4074959302238965, 0.1052622401583267, 0.4872418296177768:   15.21971484699397\n",
            "perplexity of interpolation on train with smoothing for hyperparameters 0.4074959302238965, 0.1052622401583267, 0.4872418296177768:   327.7965751408414\n",
            "perplexity of interpolation on dev without smoothing for hyperparameters 0.5724210964883528, 0.3304194228831576, 0.09715948062848956:   347.1454862507856\n",
            "perplexity of interpolation on dev with smoothing for hyperparameters 0.5724210964883528, 0.3304194228831576, 0.09715948062848956:   385.6924539554744\n",
            "perplexity of interpolation on train without smoothing for hyperparameters 0.5724210964883528, 0.3304194228831576, 0.09715948062848956:   38.918394744601045\n",
            "perplexity of interpolation on train with smoothing for hyperparameters 0.5724210964883528, 0.3304194228831576, 0.09715948062848956:   162.5357732295005\n"
          ]
        }
      ]
    },
    {
      "cell_type": "code",
      "source": [
        "interp_ppl_unsmooth = perplexity_interpolated(K, test_f, vocab, size, pool, unigram_model, bigram_model, trigram_model, unigram_freq, bigram_freq, spec_freq, False)\n",
        "interp_ppl_smooth = perplexity_interpolated(K, test_f, vocab, size, pool, unigram_model, bigram_model, trigram_model, unigram_freq, bigram_freq, spec_freq, True)\n",
        "print(f\"perplexity of interpolation on test without smoothing for hyperparameters {pool[0]}, {pool[1]}, {pool[2]}:  \", interp_ppl_unsmooth)\n",
        "print(f\"perplexity of interpolation on test with smoothing for hyperparameters {pool[0]}, {pool[1]}, {pool[2]}:  \", interp_ppl_smooth)\n",
        "\n",
        "interp_ppl_unsmooth = perplexity_interpolated(K, test_f, vocab, size, pool1, unigram_model, bigram_model, trigram_model, unigram_freq, bigram_freq, spec_freq, False)\n",
        "interp_ppl_smooth = perplexity_interpolated(K, test_f, vocab, size, pool1, unigram_model, bigram_model, trigram_model, unigram_freq, bigram_freq, spec_freq, True)\n",
        "print(f\"perplexity of interpolation on test without smoothing for hyperparameters {pool1[0]}, {pool1[1]}, {pool1[2]}:  \", interp_ppl_unsmooth)\n",
        "print(f\"perplexity of interpolation on test with smoothing for hyperparameters {pool1[0]}, {pool1[1]}, {pool1[2]}:  \", interp_ppl_smooth)\n",
        "\n",
        "interp_ppl_unsmooth = perplexity_interpolated(K, test_f, vocab, size, pool2, unigram_model, bigram_model, trigram_model, unigram_freq, bigram_freq, spec_freq, False)\n",
        "interp_ppl_smooth = perplexity_interpolated(K, test_f, vocab, size, pool2, unigram_model, bigram_model, trigram_model, unigram_freq, bigram_freq, spec_freq, True)\n",
        "print(f\"perplexity of interpolation on test without smoothing for hyperparameters {pool2[0]}, {pool2[1]}, {pool2[2]}:  \", interp_ppl_unsmooth)\n",
        "print(f\"perplexity of interpolation on test with smoothing for hyperparameters {pool2[0]}, {pool2[1]}, {pool2[2]}:  \", interp_ppl_smooth)\n",
        "\n",
        "interp_ppl_unsmooth = perplexity_interpolated(K, test_f, vocab, size, pool3, unigram_model, bigram_model, trigram_model, unigram_freq, bigram_freq, spec_freq, False)\n",
        "interp_ppl_smooth = perplexity_interpolated(K, test_f, vocab, size, pool3, unigram_model, bigram_model, trigram_model, unigram_freq, bigram_freq, spec_freq, True)\n",
        "print(f\"perplexity of interpolation on test without smoothing for hyperparameters {pool3[0]}, {pool3[1]}, {pool3[2]}:  \", interp_ppl_unsmooth)\n",
        "print(f\"perplexity of interpolation on test with smoothing for hyperparameters {pool3[0]}, {pool3[1]}, {pool3[2]}:  \", interp_ppl_smooth)\n",
        "\n",
        "interp_ppl_unsmooth = perplexity_interpolated(K, test_f, vocab, size, pool4, unigram_model, bigram_model, trigram_model, unigram_freq, bigram_freq, spec_freq, False)\n",
        "interp_ppl_smooth = perplexity_interpolated(K, test_f, vocab, size, pool4, unigram_model, bigram_model, trigram_model, unigram_freq, bigram_freq, spec_freq, True)\n",
        "print(f\"perplexity of interpolation on test without smoothing for hyperparameters {pool4[0]}, {pool4[1]}, {pool4[2]}:  \", interp_ppl_unsmooth)\n",
        "print(f\"perplexity of interpolation on test with smoothing for hyperparameters {pool4[0]}, {pool4[1]}, {pool4[2]}:  \", interp_ppl_smooth)\n",
        "\n",
        "interp_ppl_unsmooth = perplexity_interpolated(K, test_f, vocab, size, pool5, unigram_model, bigram_model, trigram_model, unigram_freq, bigram_freq, spec_freq, False)\n",
        "interp_ppl_smooth = perplexity_interpolated(K, test_f, vocab, size, pool5, unigram_model, bigram_model, trigram_model, unigram_freq, bigram_freq, spec_freq, True)\n",
        "print(f\"perplexity of interpolation on test without smoothing for hyperparameters {pool5[0]}, {pool5[1]}, {pool5[2]}:  \", interp_ppl_unsmooth)\n",
        "print(f\"perplexity of interpolation on test with smoothing for hyperparameters {pool5[0]}, {pool5[1]}, {pool5[2]}:  \", interp_ppl_smooth)"
      ],
      "metadata": {
        "colab": {
          "base_uri": "https://localhost:8080/"
        },
        "id": "ey3oy43BYECB",
        "outputId": "54a37a37-c52a-422d-8165-31d9ab4c1739"
      },
      "execution_count": null,
      "outputs": [
        {
          "output_type": "stream",
          "name": "stdout",
          "text": [
            "perplexity of interpolation on dev without smoothing for hyperparameters 0.1, 0.3, 0.6:   543.0683055194663\n",
            "perplexity of interpolation on dev with smoothing for hyperparameters 0.1, 0.3, 0.6:   594.6286705518622\n",
            "perplexity of interpolation on dev without smoothing for hyperparameters 0.14755282570936595, 0.21850442546834697, 0.6339427488222871:   523.8469791306345\n",
            "perplexity of interpolation on dev with smoothing for hyperparameters 0.14755282570936595, 0.21850442546834697, 0.6339427488222871:   633.3699879295476\n",
            "perplexity of interpolation on dev without smoothing for hyperparameters 0.17436318600033432, 0.21272670103405855, 0.6129101129656072:   499.27706305726906\n",
            "perplexity of interpolation on dev with smoothing for hyperparameters 0.17436318600033432, 0.21272670103405855, 0.6129101129656072:   616.1486606091681\n",
            "perplexity of interpolation on dev without smoothing for hyperparameters 0.47512142959162307, 0.18925370967601468, 0.33562486073236225:   386.8955500845346\n",
            "perplexity of interpolation on dev with smoothing for hyperparameters 0.47512142959162307, 0.18925370967601468, 0.33562486073236225:   499.4743058605743\n",
            "perplexity of interpolation on dev without smoothing for hyperparameters 0.4074959302238965, 0.1052622401583267, 0.4872418296177768:   451.11525133709574\n",
            "perplexity of interpolation on dev with smoothing for hyperparameters 0.4074959302238965, 0.1052622401583267, 0.4872418296177768:   646.7497659632966\n",
            "perplexity of interpolation on dev without smoothing for hyperparameters 0.5724210964883528, 0.3304194228831576, 0.09715948062848956:   350.4412832867883\n",
            "perplexity of interpolation on dev with smoothing for hyperparameters 0.5724210964883528, 0.3304194228831576, 0.09715948062848956:   389.74678438879806\n"
          ]
        }
      ]
    },
    {
      "cell_type": "markdown",
      "source": [
        "# 1.3 (c)\n",
        "Using only half of the training data could lead to a decrease in the perplexity of previously unseen data, primarily by lowering the risk of overfitting. When my model is trained on a large dataset and closely fits to it, it may struggle when faced with an unseen dataset that differs significantly from the training set. By using a smaller subset of the data, the model is less likely to overfit to specific patterns present in the training set, resulting in better generalization to new, unseen data.\n",
        "\n",
        "Perplexity:\n",
        "perplexity of unigram trained by whole file on test with smoothing:  998.247018669925\n",
        "\n",
        "perplexity of bigram trained by whole file on test with smoothing:   1864.0726257705326\n",
        "\n",
        "perplexity of trigram trained by whole file on test with smoothing:  10160.802419885664\n",
        "\n",
        "perplexity of unigram trained by half file on test with smoothing:  812.9105609540952\n",
        "\n",
        "perplexity of bigram trained by half file on test with smoothing:   1552.1012805741357\n",
        "\n",
        "perplexity of trigram trained by half file on test with smoothing:  7361.21230049765"
      ],
      "metadata": {
        "id": "vAdkX8Sg_AlT"
      }
    },
    {
      "cell_type": "code",
      "source": [
        "half_train_f = train_f[:(len(train_f) // 2)]\n",
        "spec_freq_half = len(half_train_f)\n",
        "unigram_freq_half = count_for_unitoken(half_train_f)\n",
        "unk_list_half = filter_unk(unigram_freq_half, unk)\n",
        "vocab_half = unigram_freq_half.keys()\n",
        "size_half = len(vocab)\n",
        "bigram_freq_half = count_for_bitoken(half_train_f, unk_list)\n",
        "unigram_model_half = unigram(half_train_f, K, unk)\n",
        "bigram_model_half = bigram(half_train_f, K, unk)\n",
        "trigram_model_half = trigram(half_train_f, bigram_model_half, K, unk)"
      ],
      "metadata": {
        "id": "umUxi4S0-P_K"
      },
      "execution_count": null,
      "outputs": []
    },
    {
      "cell_type": "code",
      "source": [
        "print(\"perplexity of unigram on test without smoothing: \", perplexity(K, 1, unigram_model_half, test_f, vocab_half, unigram_freq_half, bigram_freq_half, spec_freq_half))\n",
        "print(\"perplexity of bigram on test without smoothing:  \", perplexity(K, 2, bigram_model_half, test_f, vocab_half, unigram_freq_half, bigram_freq_half, spec_freq_half))\n",
        "print(\"perplexity of trigram on test without smoothing: \", perplexity(K, 3, trigram_model_half, test_f, vocab_half, unigram_freq_half, bigram_freq_half, spec_freq_half))\n",
        "print(\"perplexity of unigram on test with smoothing: \", perplexity_laplace(K, 1, unigram_model_half, test_f, vocab_half, unigram_freq_half, bigram_freq_half, spec_freq_half))\n",
        "print(\"perplexity of bigram on test with smoothing:  \", perplexity_laplace(K, 2, bigram_model_half, test_f, vocab_half, unigram_freq_half, bigram_freq_half, spec_freq_half))\n",
        "print(\"perplexity of trigram on test with smoothing: \", perplexity_laplace(K, 3, trigram_model_half, test_f, vocab_half, unigram_freq_half, bigram_freq_half, spec_freq_half))"
      ],
      "metadata": {
        "colab": {
          "base_uri": "https://localhost:8080/"
        },
        "id": "IpE_wM1A_5Ev",
        "outputId": "c99ce00b-56d4-4cad-fd4c-1b9c3bb055f7"
      },
      "execution_count": null,
      "outputs": [
        {
          "output_type": "stream",
          "name": "stdout",
          "text": [
            "perplexity of unigram on test without smoothing:  812.6340218368663\n",
            "perplexity of bigram on test without smoothing:   inf\n",
            "perplexity of trigram on test without smoothing:  inf\n",
            "perplexity of unigram on test with smoothing:  812.9105609540952\n",
            "perplexity of bigram on test with smoothing:   1552.1012805741357\n",
            "perplexity of trigram on test with smoothing:  7361.21230049765\n"
          ]
        }
      ]
    },
    {
      "cell_type": "markdown",
      "source": [
        "# 1.3 (d)\n",
        "Converting all tokens that occurred fewer than five times to \\<unk> could lower the perplexity on previously unseen data compared to solely replacing tokens that appeared only once. This strategy likely enhances the model's generalization capabilities. By substituting tokens with less than five occurrences to \\<unk>, the model gains exposure to a wider range of vocabulary during training, enabling it to better handle unseen data with a broader vocabulary spectrum.\n",
        "perplexity of unigram on test without smoothing when unk = 1:  1114.6534964214973\n",
        "\n",
        "perplexity of bigram on test without smoothing when unk = 1:   inf\n",
        "\n",
        "perplexity of trigram on test without smoothing when unk = 1:  inf\n",
        "\n",
        "perplexity of unigram on test with smoothing when unk = 1:  1115.6971793450489\n",
        "\n",
        "perplexity of bigram on test with smoothing when unk = 1:   2654.5032901347495\n",
        "\n",
        "perplexity of trigram on test with smoothing when unk = 1:  14862.456000393395\n",
        "\n",
        "perplexity of unigram on test without smoothing when unk = 5:  848.473970880849\n",
        "\n",
        "perplexity of bigram on test without smoothing when unk = 5:   inf\n",
        "\n",
        "perplexity of trigram on test without smoothing when unk = 5:  inf\n",
        "\n",
        "perplexity of unigram on test with smoothing when unk = 5:  847.7793318116068\n",
        "\n",
        "perplexity of bigram on test with smoothing when unk = 5:   1221.3500472157966\n",
        "\n",
        "perplexity of trigram on test with smoothing when unk = 5:  6402.409842898671\n",
        "\n",
        "\n",
        "\n",
        "\n",
        "\n"
      ],
      "metadata": {
        "id": "C0NvTHTJ-kur"
      }
    },
    {
      "cell_type": "code",
      "source": [
        "# convert the word with frequency less than two (apper only once) to unk\n",
        "unk2 = 2\n",
        "unigram_freq_unk2 = count_for_unitoken(train_f)\n",
        "unk_list_unk2 = filter_unk(unigram_freq_unk2, unk2)\n",
        "vocab_unk2 = unigram_freq_unk2.keys()\n",
        "size_unk2 = len(vocab_unk2)\n",
        "bigram_freq_unk2 = count_for_bitoken(train_f, unk_list)\n",
        "unigram_model_unk2 = unigram(train_f, K, unk2)\n",
        "bigram_model_unk2 = bigram(train_f, K, unk2)\n",
        "trigram_model_unk2 = trigram(train_f, bigram_model_unk2, K, unk2)\n",
        "print(\"perplexity of unigram on test without smoothing when unk = 1: \", perplexity(K, 1, unigram_model_unk2, test_f, vocab_unk2, unigram_freq_unk2, bigram_freq_unk2, spec_freq))\n",
        "print(\"perplexity of bigram on test without smoothing when unk = 1:  \", perplexity(K, 2, bigram_model_unk2, test_f, vocab_unk2, unigram_freq_unk2, bigram_freq_unk2, spec_freq))\n",
        "print(\"perplexity of trigram on test without smoothing when unk = 1: \", perplexity(K, 3, trigram_model_unk2, test_f, vocab_unk2, unigram_freq_unk2, bigram_freq_unk2, spec_freq))\n",
        "print(\"perplexity of unigram on test with smoothing when unk = 1: \", perplexity_laplace(K, 1, unigram_model_unk2, test_f, vocab_unk2, unigram_freq_unk2, bigram_freq_unk2, spec_freq))\n",
        "print(\"perplexity of bigram on test with smoothing when unk = 1:  \", perplexity_laplace(K, 2, bigram_model_unk2, test_f, vocab_unk2, unigram_freq_unk2, bigram_freq_unk2, spec_freq))\n",
        "print(\"perplexity of trigram on test with smoothing when unk = 1: \", perplexity_laplace(K, 3, trigram_model_unk2, test_f, vocab_unk2, unigram_freq_unk2, bigram_freq_unk2, spec_freq))\n",
        "\n",
        "# convert the word with frequency less than five to unk\n",
        "unk5 = 5\n",
        "unigram_freq_unk5 = count_for_unitoken(train_f)\n",
        "unk_list_unk5 = filter_unk(unigram_freq_unk5, unk5)\n",
        "vocab_unk5 = unigram_freq_unk5.keys()\n",
        "size_unk5 = len(vocab_unk5)\n",
        "bigram_freq_unk5 = count_for_bitoken(train_f, unk_list)\n",
        "unigram_model_unk5 = unigram(train_f, K, unk5)\n",
        "bigram_model_unk5 = bigram(train_f, K, unk5)\n",
        "trigram_model_unk5 = trigram(train_f, bigram_model_unk5, K, unk5)\n",
        "print(\"perplexity of unigram on test without smoothing when unk = 5: \", perplexity(K, 1, unigram_model_unk5, test_f, vocab_unk5, unigram_freq_unk5, bigram_freq_unk5, spec_freq))\n",
        "print(\"perplexity of bigram on test without smoothing when unk = 5:  \", perplexity(K, 2, bigram_model_unk5, test_f, vocab_unk5, unigram_freq_unk5, bigram_freq_unk5, spec_freq))\n",
        "print(\"perplexity of trigram on test without smoothing when unk = 5: \", perplexity(K, 3, trigram_model_unk5, test_f, vocab_unk5, unigram_freq_unk5, bigram_freq_unk5, spec_freq))\n",
        "print(\"perplexity of unigram on test with smoothing when unk = 5: \", perplexity_laplace(K, 1, unigram_model_unk5, test_f, vocab_unk5, unigram_freq_unk5, bigram_freq_unk5, spec_freq))\n",
        "print(\"perplexity of bigram on test with smoothing when unk = 5:  \", perplexity_laplace(K, 2, bigram_model_unk5, test_f, vocab_unk5, unigram_freq_unk5, bigram_freq_unk5, spec_freq))\n",
        "print(\"perplexity of trigram on test with smoothing when unk = 5: \", perplexity_laplace(K, 3, trigram_model_unk5, test_f, vocab_unk5, unigram_freq_unk5, bigram_freq_unk5, spec_freq))\n"
      ],
      "metadata": {
        "id": "Kppy5rRIaz7p",
        "colab": {
          "base_uri": "https://localhost:8080/"
        },
        "outputId": "fc70a31d-4e43-4651-dcca-3c6f9111602b"
      },
      "execution_count": null,
      "outputs": [
        {
          "output_type": "stream",
          "name": "stdout",
          "text": [
            "perplexity of unigram on test without smoothing when unk = 1:  1114.6534964214973\n",
            "perplexity of bigram on test without smoothing when unk = 1:   inf\n",
            "perplexity of trigram on test without smoothing when unk = 1:  inf\n",
            "perplexity of unigram on test with smoothing when unk = 1:  1115.6971793450489\n",
            "perplexity of bigram on test with smoothing when unk = 1:   2654.5032901347495\n",
            "perplexity of trigram on test with smoothing when unk = 1:  14862.456000393395\n",
            "perplexity of unigram on test without smoothing when unk = 5:  848.473970880849\n",
            "perplexity of bigram on test without smoothing when unk = 5:   inf\n",
            "perplexity of trigram on test without smoothing when unk = 5:  inf\n",
            "perplexity of unigram on test with smoothing when unk = 5:  847.7793318116068\n",
            "perplexity of bigram on test with smoothing when unk = 5:   1221.3500472157966\n",
            "perplexity of trigram on test with smoothing when unk = 5:  6402.409842898671\n"
          ]
        }
      ]
    }
  ]
}