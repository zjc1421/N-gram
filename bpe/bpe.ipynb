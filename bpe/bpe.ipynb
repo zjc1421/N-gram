{
  "cells": [
    {
      "cell_type": "code",
      "execution_count": null,
      "metadata": {
        "colab": {
          "base_uri": "https://localhost:8080/"
        },
        "id": "rx6Cs0XIV1mv",
        "outputId": "b186df80-08b0-48ce-b0ea-696b822391da"
      },
      "outputs": [
        {
          "output_type": "stream",
          "name": "stdout",
          "text": [
            "Drive already mounted at /content/drive; to attempt to forcibly remount, call drive.mount(\"/content/drive\", force_remount=True).\n"
          ]
        }
      ],
      "source": [
        "from google.colab import drive\n",
        "drive.mount('/content/drive')\n",
        "\n",
        "from collections import defaultdict\n",
        "import matplotlib.pyplot as plt\n",
        "import numpy as np\n",
        "\n",
        "file = open(\"BPE-data.txt\", \"r\")"
      ]
    },
    {
      "cell_type": "code",
      "source": [
        "# %cd drive/MyDrive/447_HW1/"
      ],
      "metadata": {
        "id": "36FM8Alf7BSr"
      },
      "execution_count": null,
      "outputs": []
    },
    {
      "cell_type": "code",
      "execution_count": null,
      "metadata": {
        "id": "LtvyOZSUiUno"
      },
      "outputs": [],
      "source": [
        "# 2D array: first layer is lines, second layer is tokens\n",
        "def tokenization(lines, max, vocab):\n",
        "  word_count = defaultdict(int)\n",
        "\n",
        "  corpus = []\n",
        "  num_line = 0\n",
        "  for line in lines:\n",
        "    if num_line > max - 1:\n",
        "      break\n",
        "    num_line += 1\n",
        "    cleaned_line = line.strip()\n",
        "    words = cleaned_line.split()\n",
        "\n",
        "    chars = []\n",
        "    for word in words:\n",
        "      for char in word:\n",
        "        chars.append(char)\n",
        "        if char not in vocab:\n",
        "          vocab.append(char)\n",
        "      chars.append(\"<s>\")\n",
        "      if \"<s>\" not in vocab:\n",
        "        vocab.append(\"<s>\")\n",
        "    chars.pop(len(chars) - 1)\n",
        "    corpus.append(chars)\n",
        "\n",
        "  return corpus"
      ]
    },
    {
      "cell_type": "code",
      "execution_count": null,
      "metadata": {
        "id": "IBdlVviNPOCk"
      },
      "outputs": [],
      "source": [
        "def count_for_pair(data):\n",
        "  pair_count = defaultdict(int)\n",
        "  for line in data:\n",
        "    for i in range(len(line) - 1):\n",
        "      if line[i + 1][:3] != \"<s>\":\n",
        "        pair_count[(line[i], line[i + 1])] = pair_count.get((line[i], line[i + 1]), 0) + 1\n",
        "  return pair_count"
      ]
    },
    {
      "cell_type": "code",
      "source": [
        "def find_max_freq(pair_count):\n",
        "  max_pair = \"\"\n",
        "  max_freq = -1\n",
        "\n",
        "  for pair in pair_count:\n",
        "    if max_freq < pair_count[pair]:\n",
        "      max_freq = pair_count[pair]\n",
        "      max_pair = pair\n",
        "  return (max_pair, max_freq)"
      ],
      "metadata": {
        "id": "7m0bYz596zKf"
      },
      "execution_count": null,
      "outputs": []
    },
    {
      "cell_type": "code",
      "source": [
        "def merge_token(vocab, corpus, pair):\n",
        "  new_corpus = []\n",
        "  vocab.append(pair[0]+pair[1])\n",
        "  for line in corpus:\n",
        "    i = 0\n",
        "    new_line = []\n",
        "    while i < len(line):\n",
        "      if line[i] == pair[0] and (i + 1) < len(line) and line[i + 1] == pair[1]:\n",
        "        new_line.append(line[i] + line[i + 1])\n",
        "        i += 1\n",
        "      else:\n",
        "        new_line.append(line[i])\n",
        "      i += 1\n",
        "    new_corpus.append(new_line)\n",
        "  return new_corpus\n"
      ],
      "metadata": {
        "id": "LKPTYCbP90Nr"
      },
      "execution_count": null,
      "outputs": []
    },
    {
      "cell_type": "code",
      "source": [
        "def bpe_train(lines):\n",
        "  vocab = []\n",
        "  merges = []\n",
        "  corpus = tokenization(lines, 4000, vocab)\n",
        "  pair_count = count_for_pair(corpus)\n",
        "  max_result = find_max_freq(pair_count)\n",
        "  max_freq = max_result[1]\n",
        "  max_pair = max_result[0]\n",
        "  x = [len(vocab)]\n",
        "  y = [sum(len(row) for row in corpus)]\n",
        "\n",
        "  plt.xlim(0, 9500)\n",
        "  plt.ylim(100, 550000)\n",
        "  plt.xlabel(\"Size of Vocab\")\n",
        "  plt.ylabel(\"Number of Tokens\")\n",
        "  plt.title(\"Iteration of the BPE Algorithm\")\n",
        "\n",
        "  while max_freq > 2:\n",
        "    corpus = merge_token(vocab, corpus, max_pair)\n",
        "    merges.append(max_pair)\n",
        "    x.append(len(vocab))\n",
        "    y.append(sum(len(row) for row in corpus))\n",
        "    pair_count = count_for_pair(corpus)\n",
        "    max_result = find_max_freq(pair_count)\n",
        "    max_freq = max_result[1]\n",
        "    max_pair = max_result[0]\n",
        "  plt.scatter(x, y, s=5)\n",
        "  plt.show()\n",
        "  print(\"vocabulary types ends up with: \", len(vocab))\n",
        "  print(\"The length of the training data under my final type vocabulary is: \", sum(len(row) for row in corpus))\n",
        "  return (corpus, vocab, merges)"
      ],
      "metadata": {
        "id": "I7l0w0ZQPF0O"
      },
      "execution_count": null,
      "outputs": []
    },
    {
      "cell_type": "code",
      "source": [
        "f = file.readlines()\n",
        "train = f[:4000]\n",
        "apply = f[4000:]\n",
        "train_result = bpe_train(train)\n",
        "corpus_train = train_result[0]\n",
        "vocab_train = train_result[1]\n",
        "merges = train_result[2]\n",
        "print(\"vocab size excluding base vocab: \", len(merges))"
      ],
      "metadata": {
        "colab": {
          "base_uri": "https://localhost:8080/",
          "height": 526
        },
        "id": "9WHrZgjhRbpf",
        "outputId": "d0e0c16a-a60a-4507-85e4-af55b8a41705"
      },
      "execution_count": null,
      "outputs": [
        {
          "output_type": "display_data",
          "data": {
            "text/plain": [
              "<Figure size 640x480 with 1 Axes>"
            ],
            "image/png": "[encoded data removed]"
          },
          "metadata": {}
        },
        {
          "output_type": "stream",
          "name": "stdout",
          "text": [
            "vocabulary types ends up with:  9219\n",
            "The length of the training data under my final type vocabulary is:  110432\n",
            "vocab size excluding base vocab:  9136\n"
          ]
        }
      ]
    },
    {
      "cell_type": "markdown",
      "source": [
        "# 2.2 (b)\n",
        "Advantage: Character-level encoding provides a straightforward solution to the rare word problem since characters are the fundamental units of natural language. By breaking out-of-vocabulary (OOV) words down into individual characters, all words can be represented without the need to consider their probability. This approach also offers greater flexibility in encoding, as it can represent a wider range of words compared to other encoding methods.\n",
        "\n",
        "Potential issues: This encoding strategy poses significant challenges in model training, potentially leading to the generation of numerous meaningless tokens. Additionally, the encoding process may result in the loss of sentence structure, potentially distorting the model's understanding of language."
      ],
      "metadata": {
        "id": "ba7wyMybhIAL"
      }
    },
    {
      "cell_type": "code",
      "source": [
        "def bpe_apply(lines, merges):\n",
        "  new_vocab = []\n",
        "  corpus = tokenization(lines, 1000, new_vocab)\n",
        "  for pair in merges:\n",
        "    corpus = merge_token(new_vocab, corpus, pair)\n",
        "  print(\"After apply the merge rule: \", sum(len(row) for row in corpus))\n",
        "  return (corpus, new_vocab)"
      ],
      "metadata": {
        "id": "eNXGq1hsW4R3"
      },
      "execution_count": null,
      "outputs": []
    },
    {
      "cell_type": "code",
      "source": [
        "apply_result = bpe_apply(apply, merges)\n",
        "corpus_apply = apply_result[0]\n",
        "vocab_apply = apply_result[1]"
      ],
      "metadata": {
        "colab": {
          "base_uri": "https://localhost:8080/"
        },
        "id": "sEzomKYNdgSc",
        "outputId": "a2faf61c-2417-4541-ec1f-7978f9d7ebab"
      },
      "execution_count": null,
      "outputs": [
        {
          "output_type": "stream",
          "name": "stdout",
          "text": [
            "After apply the merge rule:  30007\n"
          ]
        }
      ]
    },
    {
      "cell_type": "markdown",
      "source": [
        "# 2.2 (c)\n",
        "When my model encounters out-of-vocabulary (OOV) or extremely rare words, it may fail to effectively tokenize them. This failure could result in the tokenizer's vocabulary ultimately containing only a single character token, which signifies the unsuccessful handling of these cases."
      ],
      "metadata": {
        "id": "JDUNwMZdpPyw"
      }
    }
  ],
  "metadata": {
    "colab": {
      "provenance": []
    },
    "kernelspec": {
      "display_name": "Python 3",
      "name": "python3"
    },
    "language_info": {
      "name": "python"
    }
  },
  "nbformat": 4,
  "nbformat_minor": 0
}